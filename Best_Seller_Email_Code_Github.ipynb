{
 "cells": [
  {
   "cell_type": "code",
   "execution_count": 2,
   "metadata": {},
   "outputs": [],
   "source": [
    "#Dependencies\n",
    "import requests\n",
    "from config import api_key\n",
    "\n",
    "import pandas as pd\n",
    "import smtplib\n",
    "import win32com.client\n",
    "\n",
    "import datetime, schedule, time"
   ]
  },
  {
   "cell_type": "code",
   "execution_count": 5,
   "metadata": {},
   "outputs": [
    {
     "name": "stdout",
     "output_type": "stream",
     "text": [
      "Job complete\n"
     ]
    },
    {
     "ename": "KeyboardInterrupt",
     "evalue": "",
     "output_type": "error",
     "traceback": [
      "\u001b[1;31m---------------------------------------------------------------------------\u001b[0m",
      "\u001b[1;31mKeyboardInterrupt\u001b[0m                         Traceback (most recent call last)",
      "Input \u001b[1;32mIn [5]\u001b[0m, in \u001b[0;36m<cell line: 48>\u001b[1;34m()\u001b[0m\n\u001b[0;32m     47\u001b[0m \u001b[38;5;28;01mwhile\u001b[39;00m \u001b[38;5;28;01mTrue\u001b[39;00m:\n\u001b[0;32m     48\u001b[0m     schedule\u001b[38;5;241m.\u001b[39mrun_pending()\n\u001b[1;32m---> 49\u001b[0m     \u001b[43mtime\u001b[49m\u001b[38;5;241;43m.\u001b[39;49m\u001b[43msleep\u001b[49m\u001b[43m(\u001b[49m\u001b[38;5;241;43m1\u001b[39;49m\u001b[43m)\u001b[49m\n",
      "\u001b[1;31mKeyboardInterrupt\u001b[0m: "
     ]
    }
   ],
   "source": [
    "def job():\n",
    "    #Pull in Best Seller Data from NYTimes Using API Key\n",
    "    url = \"https://api.nytimes.com/svc/books/v3/lists/full-overview.json?api-key=\"+ api_key + \"&t=\"\n",
    "    data = requests.get(url).json()\n",
    " \n",
    "    book_list = data[\"results\"][\"lists\"][0][\"books\"]\n",
    "\n",
    "    #Title of Book\n",
    "    titles = []\n",
    "    authors = []\n",
    "    description = []\n",
    "    test = []\n",
    "\n",
    "    iter_length = len(book_list)\n",
    "\n",
    "    for e in range(iter_length):\n",
    "        titles.append(book_list[e]['title'])  \n",
    "        authors.append(book_list[e]['author'])\n",
    "        description.append(book_list[e]['description'])\n",
    "        with open(\"output.txt\", \"a\") as f:\n",
    "            print(f\"book_list[e]['title'], 'by', book_list[e]['author'], '. Description:', book_list[e]['description'] '/n/'\", file = f)\n",
    "            #delete extra printed out?\n",
    "    \n",
    "    data = []\n",
    "    data.append(titles)\n",
    "    data.append(authors)\n",
    "    data.append(description)\n",
    "\n",
    "    #convert list into DataFrame\n",
    "    df = pd.DataFrame(data).transpose()\n",
    "    df.columns=['titles', 'authors', 'description']\n",
    "\n",
    "    outlook = win32com.client.Dispatch('outlook.application')\n",
    "    mail = outlook.CreateItem(0)\n",
    "    mail.To = ''\n",
    "    mail.Subject = 'NY Times Best Sellers'\n",
    "    mail.HTMLBody = '<h3>This is HTML Body</h3>'\n",
    "    mail.Body = \"This week's top selling books are attached.\"\n",
    "    mail.Attachments.Add('C:\\\\output.txt')\n",
    "    #mail.Attachments.Add('c:\\\\sample2.xlsx')\n",
    "    #mail.CC = ''\n",
    "    mail.Send()\n",
    "    print(\"Job complete\")\n",
    "    \n",
    "schedule.every().monday.at(\"11:30\").do(job)\n",
    "while True:\n",
    "    schedule.run_pending()\n",
    "    time.sleep(1)"
   ]
  },
  {
   "cell_type": "code",
   "execution_count": null,
   "metadata": {},
   "outputs": [],
   "source": [
    "#Original Code\n",
    "#Pull in Best Seller Data from NYTimes Using API Key\n",
    "#url = \"https://api.nytimes.com/svc/books/v3/lists/full-overview.json?api-key=\"+ api_key + \"&t=\"\n",
    "#data = requests.get(url).json()\n",
    "\n",
    "#book_list = data[\"results\"][\"lists\"][0][\"books\"]\n"
   ]
  },
  {
   "cell_type": "code",
   "execution_count": null,
   "metadata": {},
   "outputs": [],
   "source": [
    "#DF\n",
    "#book_list = data[\"results\"][\"lists\"][0][\"books\"]\n",
    "\n",
    "#Title of Book\n",
    "#titles = []\n",
    "#authors = []\n",
    "#description = []\n",
    "#test = []\n",
    "\n",
    "#iter_length = len(book_list)\n",
    "\n",
    "#for e in range(iter_length):\n",
    "    #titles.append(book_list[e]['title'])  \n",
    "    #authors.append(book_list[e]['author'])\n",
    "    #description.append(book_list[e]['description'])\n",
    "    #with open(\"output.txt\", \"a\") as f:\n",
    "        #print(f\"book_list[e]['title'], 'by', book_list[e]['author'], '. Description:', book_list[e]['description'] '/n/'\", file = f)\n",
    "\n",
    "  "
   ]
  },
  {
   "cell_type": "code",
   "execution_count": null,
   "metadata": {},
   "outputs": [],
   "source": [
    "#convert lists into a single list\n",
    "#data = []\n",
    "#data.append(titles)\n",
    "#data.append(authors)\n",
    "#data.append(description)\n",
    "\n",
    "#convert list into DataFrame\n",
    "#df = pd.DataFrame(data).transpose()\n",
    "#df.columns=['titles', 'authors', 'description']\n",
    "\n",
    "#view resulting DataFrame\n",
    "#df"
   ]
  },
  {
   "cell_type": "code",
   "execution_count": null,
   "metadata": {},
   "outputs": [],
   "source": [
    "#Email\n",
    "#outlook = win32com.client.Dispatch('outlook.application')\n",
    "#mail = outlook.CreateItem(0)\n",
    "#mail.To = ''\n",
    "#mail.Subject = 'NY Times Best Sellers'\n",
    "#mail.HTMLBody = '<h3>This is HTML Body</h3>'\n",
    "#mail.Body = \"This week's top selling books are attached.\"\n",
    "#mail.Attachments.Add('C:\\\\output.txt')\n",
    "#mail.Attachments.Add('c:\\\\sample2.xlsx')\n",
    "#mail.CC = ''\n",
    "#mail.Send()"
   ]
  }
 ],
 "metadata": {
  "kernelspec": {
   "display_name": "Python 3 (ipykernel)",
   "language": "python",
   "name": "python3"
  },
  "language_info": {
   "codemirror_mode": {
    "name": "ipython",
    "version": 3
   },
   "file_extension": ".py",
   "mimetype": "text/x-python",
   "name": "python",
   "nbconvert_exporter": "python",
   "pygments_lexer": "ipython3",
   "version": "3.9.12"
  },
  "varInspector": {
   "cols": {
    "lenName": 16,
    "lenType": 16,
    "lenVar": 40
   },
   "kernels_config": {
    "python": {
     "delete_cmd_postfix": "",
     "delete_cmd_prefix": "del ",
     "library": "var_list.py",
     "varRefreshCmd": "print(var_dic_list())"
    },
    "r": {
     "delete_cmd_postfix": ") ",
     "delete_cmd_prefix": "rm(",
     "library": "var_list.r",
     "varRefreshCmd": "cat(var_dic_list()) "
    }
   },
   "types_to_exclude": [
    "module",
    "function",
    "builtin_function_or_method",
    "instance",
    "_Feature"
   ],
   "window_display": false
  }
 },
 "nbformat": 4,
 "nbformat_minor": 2
}
